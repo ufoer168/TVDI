{
 "cells": [
  {
   "cell_type": "code",
   "execution_count": null,
   "metadata": {},
   "outputs": [],
   "source": [
    "#python的變數建立\n",
    "n = 56\n",
    "m = 57.8\n",
    "name = 'robert'\n",
    "is_true = True\n",
    "\n",
    "print(n, m , name, is_true, 6, 9, 8,10,sep='-')"
   ]
  },
  {
   "cell_type": "code",
   "execution_count": null,
   "metadata": {},
   "outputs": [],
   "source": [
    "#python的基本資料型別\n",
    "type(n), type(m), type(name), type(is_true)"
   ]
  },
  {
   "cell_type": "code",
   "execution_count": null,
   "metadata": {},
   "outputs": [],
   "source": [
    "age = 26\n",
    "\n",
    "if age < 18:\n",
    "    print(\"未成年\")\n",
    "else:\n",
    "    print(\"成年\")"
   ]
  },
  {
   "cell_type": "code",
   "execution_count": null,
   "metadata": {},
   "outputs": [],
   "source": [
    "age=26\n",
    "print(\"未成年\") if age<18 else print(\"成年\")"
   ]
  },
  {
   "cell_type": "code",
   "execution_count": null,
   "metadata": {},
   "outputs": [],
   "source": [
    "age = 55\n",
    "\n",
    "if age < 18:\n",
    "    print(\"未成年\")\n",
    "elif age < 50:\n",
    "    print(\"成年\")\n",
    "else:\n",
    "    print(\"老年\")"
   ]
  },
  {
   "cell_type": "code",
   "execution_count": null,
   "metadata": {},
   "outputs": [],
   "source": [
    "for i in range(10):\n",
    "    print(i)"
   ]
  },
  {
   "cell_type": "code",
   "execution_count": null,
   "metadata": {},
   "outputs": [],
   "source": [
    "for element in ['taiwan', 'japan', 'us']:\n",
    "    print(element)"
   ]
  }
 ],
 "metadata": {
  "language_info": {
   "name": "python"
  },
  "orig_nbformat": 4
 },
 "nbformat": 4,
 "nbformat_minor": 2
}
